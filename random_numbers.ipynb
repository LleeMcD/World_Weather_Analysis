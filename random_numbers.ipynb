{
 "cells": [
  {
   "cell_type": "code",
   "execution_count": 10,
   "id": "a08d617f",
   "metadata": {},
   "outputs": [],
   "source": [
    "import random"
   ]
  },
  {
   "cell_type": "code",
   "execution_count": 17,
   "id": "d1478007",
   "metadata": {},
   "outputs": [],
   "source": [
    "# Import the NumPy module.\n",
    "import numpy as np"
   ]
  },
  {
   "cell_type": "code",
   "execution_count": 18,
   "id": "0ea8d6e7",
   "metadata": {},
   "outputs": [
    {
     "data": {
      "text/plain": [
       "-71.04922254948663"
      ]
     },
     "execution_count": 18,
     "metadata": {},
     "output_type": "execute_result"
    }
   ],
   "source": [
    "np.random.uniform(-90.000, 90.000)"
   ]
  },
  {
   "cell_type": "code",
   "execution_count": 19,
   "id": "c42f7436",
   "metadata": {},
   "outputs": [
    {
     "data": {
      "text/plain": [
       "array([ 8.39245144e+01,  3.94549039e+01,  1.01500651e-01, -4.68165299e+00,\n",
       "        1.94069575e+01, -5.43192684e+01, -6.96931187e+01,  8.34979149e+00,\n",
       "       -1.15623870e+01, -4.96935625e+00, -2.97113116e+01,  8.26540967e+01,\n",
       "       -7.16375530e+01, -1.33880989e+01, -4.97619697e+01,  8.30998492e+01,\n",
       "        8.37849380e+01, -3.90319627e+01,  6.62868521e+01, -4.45537551e+01,\n",
       "        4.08519630e+01, -8.50066213e+01, -6.79521480e+01,  1.39894558e+01,\n",
       "       -6.36527134e+01, -4.56457762e+01, -7.59287290e+01,  4.98474810e+01,\n",
       "        5.52254559e+01, -2.29770377e+01, -7.58450889e+01,  1.37290256e-02,\n",
       "       -7.72644448e+01, -4.84205640e+01,  4.86033758e+01, -6.38162969e+01,\n",
       "       -3.42063117e+01,  4.12249229e+01,  1.68929159e+01, -1.66396165e+01,\n",
       "       -6.21979839e+01, -7.93571479e+01,  2.38240551e+01, -8.81502966e+01,\n",
       "       -1.34574898e+01,  1.28340169e+01,  2.22575605e+01,  3.75948641e+01,\n",
       "        4.19595277e+01, -5.55780329e+00])"
      ]
     },
     "execution_count": 19,
     "metadata": {},
     "output_type": "execute_result"
    }
   ],
   "source": [
    "np.random.uniform(-90.000, 90.000, size=50)"
   ]
  },
  {
   "cell_type": "code",
   "execution_count": 20,
   "id": "00f665bc",
   "metadata": {},
   "outputs": [],
   "source": [
    "# Import timeit.\n",
    "import timeit"
   ]
  },
  {
   "cell_type": "code",
   "execution_count": 21,
   "id": "2abfdd3b",
   "metadata": {},
   "outputs": [
    {
     "name": "stdout",
     "output_type": "stream",
     "text": [
      "13.5 µs ± 107 ns per loop (mean ± std. dev. of 7 runs, 100000 loops each)\n"
     ]
    }
   ],
   "source": [
    "#How long will it take to generate 1,500 numbers\n",
    "%timeit np.random.uniform(-90.000, 90.000, size=1500)"
   ]
  },
  {
   "cell_type": "code",
   "execution_count": 22,
   "id": "370c19f5",
   "metadata": {},
   "outputs": [
    {
     "name": "stdout",
     "output_type": "stream",
     "text": [
      "1.89 ms ± 127 µs per loop (mean ± std. dev. of 7 runs, 1000 loops each)\n"
     ]
    }
   ],
   "source": [
    "def latitudes(size):\n",
    "    latitudes = []\n",
    "    x = 0\n",
    "    while x < (size):\n",
    "        random_lat = random.randint(-90, 90) + random.random()\n",
    "        latitudes.append(random_lat)\n",
    "        x += 1\n",
    "    return latitudes\n",
    "# Call the function with 1500.\n",
    "%timeit latitudes(1500)"
   ]
  },
  {
   "cell_type": "code",
   "execution_count": null,
   "id": "6bfde1a8",
   "metadata": {},
   "outputs": [],
   "source": []
  }
 ],
 "metadata": {
  "kernelspec": {
   "display_name": "PythonData",
   "language": "python",
   "name": "pythondata"
  },
  "language_info": {
   "codemirror_mode": {
    "name": "ipython",
    "version": 3
   },
   "file_extension": ".py",
   "mimetype": "text/x-python",
   "name": "python",
   "nbconvert_exporter": "python",
   "pygments_lexer": "ipython3",
   "version": "3.7.10"
  }
 },
 "nbformat": 4,
 "nbformat_minor": 5
}
